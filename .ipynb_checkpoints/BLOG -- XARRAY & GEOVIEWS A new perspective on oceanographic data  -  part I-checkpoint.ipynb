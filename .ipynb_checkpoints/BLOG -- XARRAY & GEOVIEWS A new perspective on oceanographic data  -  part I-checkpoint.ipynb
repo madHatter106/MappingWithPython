{
 "cells": [
  {
   "cell_type": "markdown",
   "metadata": {},
   "source": [
    "### Using *xarray* to manipulate our rrs data\n",
    "### --------------------------------------------------------------\n",
    "\n",
    "With this post I explore an alternative to numpy; [xarray](http://xarray.pydata.org/en/stable/index.html). This is a very handy library that purports to apply the pandas concept of labeled dimension to large data arrays for scientific computation. In addition to the resulting ease of manipulation of dimensions without having to guess what they correspond to, xarray plays nicely with two other and new libraries:\n",
    "* [dask](http://dask.pydata.org/en/latest/), which enables out of core computation so that memory availability becomes much less an issue; \n",
    "* [GeoViews](http://geo.holoviews.org/), a library sitting on top of [HoloViews](http://holoviews.org/). The latter eases the burden of data visualization by offering an unusual approach that does away with step-by-step graphical coding and allows the user to concentrate how the data organization instead. This results in a substantial reduction code written, which makes data analysis much cleaner and less bug-prone. GeoViews leverages HoloViews facilities for visualization of geophysical data. It's also my first good-bye to the aging (10+ years) matplotlib library. It'll still be handy now and then, but it's time to try new things."
   ]
  },
  {
   "cell_type": "code",
   "execution_count": 1,
   "metadata": {
    "collapsed": true
   },
   "outputs": [],
   "source": [
    "import xarray as xr\n",
    "import os\n",
    "import seaborn\n",
    "from matplotlib import rcParams\n",
    "import matplotlib.pyplot as pl\n",
    "%matplotlib inline"
   ]
  },
  {
   "cell_type": "code",
   "execution_count": 2,
   "metadata": {
    "collapsed": false
   },
   "outputs": [],
   "source": [
    "rcParams['font.size']=16\n",
    "rcParams['xtick.labelsize']=14\n",
    "rcParams['ytick.labelsize']=14\n",
    "rcParams['legend.fontsize']=14\n",
    "rcParams['axes.formatter.limits'] = (-3,3)"
   ]
  },
  {
   "cell_type": "markdown",
   "metadata": {},
   "source": [
    "Set up the paths for loading and saving..."
   ]
  },
  {
   "cell_type": "code",
   "execution_count": 3,
   "metadata": {
    "collapsed": false
   },
   "outputs": [],
   "source": [
    "dataDir = '/accounts/ekarakoy/disk02/UNCERTAINTIES/Monte-Carlo/DATA/AncillaryMC/'\n",
    "expDir = 'Lt'\n",
    "fname = 'S20031932003196.L3m_4D_SU50.nc'\n",
    "fpath = os.path.join(dataDir,expDir,fname)\n",
    "foutpath = os.path.join(dataDir,expDir,fname.split('.nc')[0] + '_xarray.nc')"
   ]
  },
  {
   "cell_type": "markdown",
   "metadata": {},
   "source": [
    "..., which I now used to access the nc data:"
   ]
  },
  {
   "cell_type": "code",
   "execution_count": 4,
   "metadata": {
    "collapsed": false
   },
   "outputs": [],
   "source": [
    "ds = xr.open_dataset(fpath)"
   ]
  },
  {
   "cell_type": "markdown",
   "metadata": {},
   "source": [
    "Now let's peak inside the dataset we've just loaded:"
   ]
  },
  {
   "cell_type": "code",
   "execution_count": 5,
   "metadata": {
    "collapsed": false
   },
   "outputs": [
    {
     "data": {
      "text/plain": [
       "KeysView(Data variables:\n",
       "    Rrs_unc_412  (lat, lon) float64 nan nan nan nan nan nan nan nan nan nan ...\n",
       "    Rrs_unc_443  (lat, lon) float64 nan nan nan nan nan nan nan nan nan nan ...\n",
       "    Rrs_unc_490  (lat, lon) float64 nan nan nan nan nan nan nan nan nan nan ...\n",
       "    Rrs_unc_510  (lat, lon) float64 nan nan nan nan nan nan nan nan nan nan ...\n",
       "    Rrs_unc_555  (lat, lon) float64 nan nan nan nan nan nan nan nan nan nan ...\n",
       "    Rrs_unc_670  (lat, lon) float64 nan nan nan nan nan nan nan nan nan nan ...\n",
       "    palette      (rgb, eightbitcolor) uint8 147 0 108 144 0 111 141 0 114 ...)"
      ]
     },
     "execution_count": 5,
     "metadata": {},
     "output_type": "execute_result"
    }
   ],
   "source": [
    "ds.data_vars.keys()"
   ]
  },
  {
   "cell_type": "markdown",
   "metadata": {},
   "source": [
    "I don't need \"palette\". I am interested in the uncertainty data, however. These are 64 bits float with lat lon dimensions. Let's make sure these arrays are inter-comparable"
   ]
  },
  {
   "cell_type": "code",
   "execution_count": 6,
   "metadata": {
    "collapsed": false
   },
   "outputs": [
    {
     "name": "stdout",
     "output_type": "stream",
     "text": [
      "<xarray.DataArray 'Rrs_unc_412' (lat: 1556, lon: 4318)>\n",
      "[6718808 values with dtype=float64]\n",
      "Coordinates:\n",
      "  * lat      (lat) float64 81.17 81.08 81.0 80.92 80.83 80.75 80.67 80.58 ...\n",
      "  * lon      (lon) float64 -179.9 -179.8 -179.7 -179.7 -179.6 -179.5 -179.4 ...\n",
      "Attributes:\n",
      "    long_name: Uncertainty in remote sensing reflectance at 412 nm\n",
      "    units: sr^-1\n",
      "    valid_min: -30000\n",
      "    valid_max: 25000\n",
      "    display_scale: linear\n",
      "    display_min: 0.0\n",
      "    display_max: 0.01\n",
      "================================================================================\n",
      "<xarray.DataArray 'Rrs_unc_443' (lat: 1556, lon: 4318)>\n",
      "[6718808 values with dtype=float64]\n",
      "Coordinates:\n",
      "  * lat      (lat) float64 81.17 81.08 81.0 80.92 80.83 80.75 80.67 80.58 ...\n",
      "  * lon      (lon) float64 -179.9 -179.8 -179.7 -179.7 -179.6 -179.5 -179.4 ...\n",
      "Attributes:\n",
      "    long_name: Uncertainty in remote sensing reflectance at 443 nm\n",
      "    units: sr^-1\n",
      "    valid_min: -30000\n",
      "    valid_max: 25000\n",
      "    display_scale: linear\n",
      "    display_min: 0.0\n",
      "    display_max: 0.01\n",
      "================================================================================\n",
      "<xarray.DataArray 'Rrs_unc_490' (lat: 1556, lon: 4318)>\n",
      "[6718808 values with dtype=float64]\n",
      "Coordinates:\n",
      "  * lat      (lat) float64 81.17 81.08 81.0 80.92 80.83 80.75 80.67 80.58 ...\n",
      "  * lon      (lon) float64 -179.9 -179.8 -179.7 -179.7 -179.6 -179.5 -179.4 ...\n",
      "Attributes:\n",
      "    long_name: Uncertainty in remote sensing reflectance at 490 nm\n",
      "    units: sr^-1\n",
      "    valid_min: -30000\n",
      "    valid_max: 25000\n",
      "    display_scale: linear\n",
      "    display_min: 0.0\n",
      "    display_max: 0.01\n",
      "================================================================================\n",
      "<xarray.DataArray 'Rrs_unc_510' (lat: 1556, lon: 4318)>\n",
      "[6718808 values with dtype=float64]\n",
      "Coordinates:\n",
      "  * lat      (lat) float64 81.17 81.08 81.0 80.92 80.83 80.75 80.67 80.58 ...\n",
      "  * lon      (lon) float64 -179.9 -179.8 -179.7 -179.7 -179.6 -179.5 -179.4 ...\n",
      "Attributes:\n",
      "    long_name: Uncertainty in remote sensing reflectance at 510 nm\n",
      "    units: sr^-1\n",
      "    valid_min: -30000\n",
      "    valid_max: 25000\n",
      "    display_scale: linear\n",
      "    display_min: 0.0\n",
      "    display_max: 0.01\n",
      "================================================================================\n",
      "<xarray.DataArray 'Rrs_unc_555' (lat: 1556, lon: 4318)>\n",
      "[6718808 values with dtype=float64]\n",
      "Coordinates:\n",
      "  * lat      (lat) float64 81.17 81.08 81.0 80.92 80.83 80.75 80.67 80.58 ...\n",
      "  * lon      (lon) float64 -179.9 -179.8 -179.7 -179.7 -179.6 -179.5 -179.4 ...\n",
      "Attributes:\n",
      "    long_name: Uncertainty in remote sensing reflectance at 555 nm\n",
      "    units: sr^-1\n",
      "    valid_min: -30000\n",
      "    valid_max: 25000\n",
      "    display_scale: linear\n",
      "    display_min: 0.0\n",
      "    display_max: 0.01\n",
      "================================================================================\n",
      "<xarray.DataArray 'Rrs_unc_670' (lat: 1556, lon: 4318)>\n",
      "[6718808 values with dtype=float64]\n",
      "Coordinates:\n",
      "  * lat      (lat) float64 81.17 81.08 81.0 80.92 80.83 80.75 80.67 80.58 ...\n",
      "  * lon      (lon) float64 -179.9 -179.8 -179.7 -179.7 -179.6 -179.5 -179.4 ...\n",
      "Attributes:\n",
      "    long_name: Uncertainty in remote sensing reflectance at 670 nm\n",
      "    units: sr^-1\n",
      "    valid_min: -30000\n",
      "    valid_max: 25000\n",
      "    display_scale: linear\n",
      "    display_min: 0.0\n",
      "    display_max: 0.01\n",
      "================================================================================\n"
     ]
    }
   ],
   "source": [
    "bands = ['412','443','490','510','555','670']\n",
    "for band in bands:\n",
    "    var = ds.data_vars['Rrs_unc_%s' % band]\n",
    "    print(var)\n",
    "    print(\"=\" * 80)"
   ]
  },
  {
   "cell_type": "markdown",
   "metadata": {},
   "source": [
    "So there are multiple arrays, one for each of 6 bands.\n",
    "Now I want to reorganize the data into a single array with a third dimension; band.\n",
    "This is as easy as 1, 2, 3... lines of code"
   ]
  },
  {
   "cell_type": "code",
   "execution_count": 7,
   "metadata": {
    "collapsed": false
   },
   "outputs": [],
   "source": [
    "rrs = xr.concat((ds.data_vars['Rrs_unc_%s' % band] for band in bands), dim='bands')\n",
    "rrs.coords['bands'] = ['412', '443', '490', '510', '555', '670']\n",
    "rrs.name = 'rrs_uncertainty'"
   ]
  },
  {
   "cell_type": "markdown",
   "metadata": {},
   "source": [
    "Now I can close the netcdf dataset handle..."
   ]
  },
  {
   "cell_type": "code",
   "execution_count": 8,
   "metadata": {
    "collapsed": true
   },
   "outputs": [],
   "source": [
    "ds.close()"
   ]
  },
  {
   "cell_type": "markdown",
   "metadata": {},
   "source": [
    "Taking a look at what this new construct is and what it contains and answer the following questions:\n",
    "    * what data type does rrs have?"
   ]
  },
  {
   "cell_type": "code",
   "execution_count": 9,
   "metadata": {
    "collapsed": false
   },
   "outputs": [
    {
     "name": "stdout",
     "output_type": "stream",
     "text": [
      "<class 'xarray.core.dataarray.DataArray'>\n"
     ]
    }
   ],
   "source": [
    "print(type(rrs))"
   ]
  },
  {
   "cell_type": "markdown",
   "metadata": {},
   "source": [
    "    * what are the dimensions of rrs data ?"
   ]
  },
  {
   "cell_type": "code",
   "execution_count": 10,
   "metadata": {
    "collapsed": false
   },
   "outputs": [
    {
     "name": "stdout",
     "output_type": "stream",
     "text": [
      "('bands', 'lat', 'lon')\n"
     ]
    }
   ],
   "source": [
    "print(rrs.dims)"
   ]
  },
  {
   "cell_type": "markdown",
   "metadata": {},
   "source": [
    "    * what coordinates are available to index rrs"
   ]
  },
  {
   "cell_type": "code",
   "execution_count": 11,
   "metadata": {
    "collapsed": false
   },
   "outputs": [
    {
     "name": "stdout",
     "output_type": "stream",
     "text": [
      "Coordinates:\n",
      "  * lat      (lat) float64 81.17 81.08 81.0 80.92 80.83 80.75 80.67 80.58 ...\n",
      "  * lon      (lon) float64 -179.9 -179.8 -179.7 -179.7 -179.6 -179.5 -179.4 ...\n",
      "  * bands    (bands) <U3 '412' '443' '490' '510' '555' '670'\n"
     ]
    }
   ],
   "source": [
    "print(rrs.coords)"
   ]
  },
  {
   "cell_type": "markdown",
   "metadata": {},
   "source": [
    "Accessing the data along a given dimension..."
   ]
  },
  {
   "cell_type": "code",
   "execution_count": 12,
   "metadata": {
    "collapsed": false
   },
   "outputs": [],
   "source": [
    "rrs412 = rrs.sel(bands=['412'])\n",
    "rrsGreen = rrs.sel(bands=['510','555'])"
   ]
  },
  {
   "cell_type": "markdown",
   "metadata": {},
   "source": [
    "... and quickly plotting it via its matplotlib interface is pretty straightforward:"
   ]
  },
  {
   "cell_type": "code",
   "execution_count": 13,
   "metadata": {
    "collapsed": false
   },
   "outputs": [
    {
     "data": {
      "image/png": "[encoded data removed]",
      "text/plain": [
       "<matplotlib.figure.Figure at 0x7f17f84f6780>"
      ]
     },
     "metadata": {},
     "output_type": "display_data"
    }
   ],
   "source": [
    "pl.figure(figsize=(12,7))\n",
    "rrs412.plot.hist(bins=50, range=(0,5e-4), histtype='stepfilled', label='412',\n",
    "                normed=True);\n",
    "rrsGreen.plot.hist(bins=50, range=(0,5e-4),histtype='stepfilled', alpha=0.3,\n",
    "                  label='Green: 510 & 555', normed=True)\n",
    "pl.legend();\n",
    "pl.title('Histogram of Rrs Uncertainty',fontsize=18);\n",
    "pl.ylabel('freq', fontsize=16)\n",
    "pl.xlabel(r'$sr^{-1}$', fontsize=16 );"
   ]
  },
  {
   "cell_type": "markdown",
   "metadata": {},
   "source": [
    "So *rrs* is a xarray DataArray type.\n",
    "Now,  to export it to a new netcdf file. \n",
    "\n",
    "To save the new data organization, I first convert the xarray DataArray to an xarray Dataset, which then gives me the facility to export it to netcdf."
   ]
  },
  {
   "cell_type": "code",
   "execution_count": 14,
   "metadata": {
    "collapsed": false
   },
   "outputs": [],
   "source": [
    "dsNew = rrs.to_dataset()"
   ]
  },
  {
   "cell_type": "code",
   "execution_count": 15,
   "metadata": {
    "collapsed": true
   },
   "outputs": [],
   "source": [
    "dsNew.to_netcdf(path=foutpath, engine='netcdf4')"
   ]
  },
  {
   "cell_type": "markdown",
   "metadata": {},
   "source": [
    "That's it! In the next [post](), I will load this same dataset to illustrate the amenities offered by GeoViews. Happy hacking!!"
   ]
  }
 ],
 "metadata": {
  "anaconda-cloud": {},
  "kernelspec": {
   "display_name": "Python [conda root]",
   "language": "python",
   "name": "conda-root-py"
  },
  "language_info": {
   "codemirror_mode": {
    "name": "ipython",
    "version": 3
   },
   "file_extension": ".py",
   "mimetype": "text/x-python",
   "name": "python",
   "nbconvert_exporter": "python",
   "pygments_lexer": "ipython3",
   "version": "3.5.2"
  }
 },
 "nbformat": 4,
 "nbformat_minor": 1
}
