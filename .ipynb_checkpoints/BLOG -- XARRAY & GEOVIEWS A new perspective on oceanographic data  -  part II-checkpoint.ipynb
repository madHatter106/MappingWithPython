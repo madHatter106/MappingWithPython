{
 "cells": [
  {
   "cell_type": "markdown",
   "metadata": {},
   "source": [
    "In a [previous post](), I introduced xarray with some simple manipulation and data plotting. Here I'm going to do some more manipulation. A synopsis of the post follows.\n",
    "\n",
    "#### GOAL:\n",
    "The ultimate goal here is to create new datasets, one for band, that aggregate results across experiments so as to facilitate inter-experiment comparisons.\n",
    "\n",
    "#### HOW: \n",
    "I will load netCDF files from a number of Monte-Carlo uncertainty experiments, among which the source of the uncertainty differs; Lt (sensor noise), wind, pressure, relative humidity, all the above.\n",
    "At the end of this post, I will have 6 files, one per visible SeaWiFS visible band\n",
    "containing one 3D array where dimensions are latitude, longitude, experiment.\n",
    "\n",
    "#### WHY: \n",
    "I'm doing this to create an interactive visualization (*cf.* [next post]()) using GeoViews, where the goal is to compare, band-wise, the cross-experiment results.\n",
    "\n",
    "As usual, start with some imports..."
   ]
  },
  {
   "cell_type": "code",
   "execution_count": 1,
   "metadata": {
    "collapsed": true
   },
   "outputs": [],
   "source": [
    "import xarray as xr\n",
    "import os\n",
    "import glob"
   ]
  },
  {
   "cell_type": "markdown",
   "metadata": {},
   "source": [
    "Now I set up some file path logic to avoid rewriting full file paths."
   ]
  },
  {
   "cell_type": "code",
   "execution_count": 2,
   "metadata": {
    "collapsed": false
   },
   "outputs": [],
   "source": [
    "dataDir = '/accounts/ekarakoy/disk02/UNCERTAINTIES/Monte-Carlo/DATA/AncillaryMC/'\n",
    "expDirs = ['Lt', 'AllAnc_Lt', 'Pressure', 'RH', 'WindSpeed']\n",
    "outDir = 'Synthesis'\n",
    "fpattern = 'S20031932003196.L3m_4D_SU*.nc'\n",
    "fpaths = [glob.glob(os.path.join(dataDir, expDir, fpattern))[0] for expDir in expDirs]"
   ]
  },
  {
   "cell_type": "markdown",
   "metadata": {},
   "source": [
    "This is the list of paths where files containing experimental resulst are contained:"
   ]
  },
  {
   "cell_type": "code",
   "execution_count": 3,
   "metadata": {
    "collapsed": false
   },
   "outputs": [
    {
     "data": {
      "text/plain": [
       "['/accounts/ekarakoy/disk02/UNCERTAINTIES/Monte-Carlo/DATA/AncillaryMC/Lt/S20031932003196.L3m_4D_SU50.nc',\n",
       " '/accounts/ekarakoy/disk02/UNCERTAINTIES/Monte-Carlo/DATA/AncillaryMC/AllAnc_Lt/S20031932003196.L3m_4D_SU46.nc',\n",
       " '/accounts/ekarakoy/disk02/UNCERTAINTIES/Monte-Carlo/DATA/AncillaryMC/Pressure/S20031932003196.L3m_4D_SU49.nc',\n",
       " '/accounts/ekarakoy/disk02/UNCERTAINTIES/Monte-Carlo/DATA/AncillaryMC/RH/S20031932003196.L3m_4D_SU47.nc',\n",
       " '/accounts/ekarakoy/disk02/UNCERTAINTIES/Monte-Carlo/DATA/AncillaryMC/WindSpeed/S20031932003196.L3m_4D_SU48.nc']"
      ]
     },
     "execution_count": 3,
     "metadata": {},
     "output_type": "execute_result"
    }
   ],
   "source": [
    "fpaths"
   ]
  },
  {
   "cell_type": "markdown",
   "metadata": {},
   "source": [
    "xarray has a nifty feature that allows opening multiple datasets, and automatically concatenating matching (by name and dimension) arrays, with the option of naming the thus newly created dimension. You will need [dask](http://dask.pydata.org/en/latest/) installed for his. In our case, this is *'experiment'*. The line below opens what will end up being a temporary xarray Dataset."
   ]
  },
  {
   "cell_type": "code",
   "execution_count": 4,
   "metadata": {
    "collapsed": false
   },
   "outputs": [],
   "source": [
    "allData = xr.open_mfdataset(fpaths, concat_dim='experiment')"
   ]
  },
  {
   "cell_type": "markdown",
   "metadata": {},
   "source": [
    "Now I label the *experiment* dimension with the appropriate experiment names. Here,  the concatenation direction reflects the order in which the file paths are specified, which in turn is that in which the experiment names are listed in expDirs."
   ]
  },
  {
   "cell_type": "code",
   "execution_count": 5,
   "metadata": {
    "collapsed": false
   },
   "outputs": [],
   "source": [
    "allData.coords['experiment'] = expDirs"
   ]
  },
  {
   "cell_type": "code",
   "execution_count": 6,
   "metadata": {
    "collapsed": false
   },
   "outputs": [],
   "source": [
    "bands = [412, 443, 490, 510, 555, 670]\n",
    "for band in bands:\n",
    "    foutpath = os.path.join(dataDir, outDir, '%s%d%s' %(fpattern.split('SU')[0],\n",
    "                                                        band, '.nc'))\n",
    "    if not os.path.exists(os.path.dirname(foutpath)):\n",
    "        os.makedirs(os.path.dirname(foutpath))\n",
    "    data = allData.data_vars['Rrs_unc_%d' % band]\n",
    "    data.name='rrs_unc_%d' % band\n",
    "    dsData = data.to_dataset()\n",
    "    dsData.to_netcdf(path=foutpath, engine='netcdf4')"
   ]
  },
  {
   "cell_type": "markdown",
   "metadata": {},
   "source": [
    "I didn't use a *with* context which would have closed the temporary *allData* dataset"
   ]
  },
  {
   "cell_type": "code",
   "execution_count": 7,
   "metadata": {
    "collapsed": true
   },
   "outputs": [],
   "source": [
    "allData.close()"
   ]
  },
  {
   "cell_type": "markdown",
   "metadata": {},
   "source": [
    "Verify that all the files are where they should be; in the Syntesis directory"
   ]
  },
  {
   "cell_type": "code",
   "execution_count": 8,
   "metadata": {
    "collapsed": false
   },
   "outputs": [
    {
     "data": {
      "text/plain": [
       "['S20031932003196.L3m_4D_490.nc',\n",
       " 'S20031932003196.L3m_4D_510.nc',\n",
       " 'S20031932003196.L3m_4D_412.nc',\n",
       " 'S20031932003196.L3m_4D_555.nc',\n",
       " 'S20031932003196.L3m_4D_670.nc',\n",
       " 'S20031932003196.L3m_4D_443.nc']"
      ]
     },
     "execution_count": 8,
     "metadata": {},
     "output_type": "execute_result"
    }
   ],
   "source": [
    "os.listdir(os.path.dirname(foutpath))"
   ]
  },
  {
   "cell_type": "markdown",
   "metadata": {},
   "source": [
    "Success!! \n",
    "That's it. In the [next post]() I will use GeoViews, HoloViews, with a Matplotlib backend to create some nice, but more importantly, intuitive and hopefully useful visualizations."
   ]
  },
  {
   "cell_type": "code",
   "execution_count": null,
   "metadata": {
    "collapsed": true
   },
   "outputs": [],
   "source": []
  }
 ],
 "metadata": {
  "kernelspec": {
   "display_name": "Python [conda root]",
   "language": "python",
   "name": "conda-root-py"
  },
  "language_info": {
   "codemirror_mode": {
    "name": "ipython",
    "version": 3
   },
   "file_extension": ".py",
   "mimetype": "text/x-python",
   "name": "python",
   "nbconvert_exporter": "python",
   "pygments_lexer": "ipython3",
   "version": "3.5.2"
  }
 },
 "nbformat": 4,
 "nbformat_minor": 1
}
