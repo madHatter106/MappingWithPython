{
 "cells": [
  {
   "cell_type": "markdown",
   "metadata": {},
   "source": [
    "In a previous [post]() I briefly described the use of the xarray module to easily manipulate medium sized datasets. The data in question happened to be geophysical, 4-daily mapped *remote sensing reflectance uncertainty*. Visualizing these data can be cumbersome, requiring some significant and error-prone coding, resulting in a lot of back-and-forth until a useful but also presentable format is achieved. \n",
    "\n",
    "\n",
    "In the present post, I will illustrate the use of a [python](https://www.python.org/) library, [GeoViews](http://geo.holoviews.org/), to easily manipulate such data to quickly create compelling visualizations with very few lines of code.\n",
    "\n",
    "As mentioned in [part-I]() of this blog series, GeoViews sits on top of [HoloViews](http://holoviews.org/), a library where the user is directed to annotate his or her data, rather than writing plotting code. Holoviews then takes the annotated data to render it with minimum fuss. So without further ado, let's get to it!\n",
    "\n",
    "---\n",
    "\n",
    "\n",
    "Let's begin first with the necessary imports."
   ]
  },
  {
   "cell_type": "code",
   "execution_count": 2,
   "metadata": {
    "collapsed": true
   },
   "outputs": [],
   "source": [
    "import holoviews as hv\n",
    "import geoviews as gv\n",
    "from geoviews import feature as gf\n",
    "from cartopy import crs\n",
    "import numpy as np\n",
    "import xarray as xr\n",
    "from matplotlib import rcParams"
   ]
  },
  {
   "cell_type": "markdown",
   "metadata": {},
   "source": [
    "Jupyter notebook might restrict the size of embedded figures. I don't like that so to change that for some layout freedom:"
   ]
  },
  {
   "cell_type": "code",
   "execution_count": 4,
   "metadata": {
    "collapsed": false
   },
   "outputs": [
    {
     "data": {
      "text/html": [
       "<style>.container {width:90% !important;}</style>"
      ],
      "text/plain": [
       "<IPython.core.display.HTML object>"
      ]
     },
     "metadata": {},
     "output_type": "display_data"
    }
   ],
   "source": [
    "from IPython.core.display import display, HTML\n",
    "display(HTML(\"<style>.container {width:90% !important;}</style>\"))"
   ]
  },
  {
   "cell_type": "markdown",
   "metadata": {},
   "source": [
    "Finally, I would like some uniformity in text layout across this notebook so:"
   ]
  },
  {
   "cell_type": "code",
   "execution_count": 5,
   "metadata": {
    "collapsed": true
   },
   "outputs": [],
   "source": [
    "rcParams['axes.formatter.limits']=[-2,3] # switch to engineering unit format beyond a certain range of numbers\n",
    "rcParams['font.size'] = 18\n",
    "rcParams['xtick.labelsize'] = 16\n",
    "rcParams['ytick.labelsize'] = 16\n",
    "rcParams['legend.fontsize'] = 16"
   ]
  },
  {
   "cell_type": "code",
   "execution_count": null,
   "metadata": {
    "collapsed": true
   },
   "outputs": [],
   "source": []
  }
 ],
 "metadata": {
  "kernelspec": {
   "display_name": "Python [conda root]",
   "language": "python",
   "name": "conda-root-py"
  },
  "language_info": {
   "codemirror_mode": {
    "name": "ipython",
    "version": 3
   },
   "file_extension": ".py",
   "mimetype": "text/x-python",
   "name": "python",
   "nbconvert_exporter": "python",
   "pygments_lexer": "ipython3",
   "version": "3.5.2"
  }
 },
 "nbformat": 4,
 "nbformat_minor": 1
}
